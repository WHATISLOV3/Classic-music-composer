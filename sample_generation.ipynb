{
 "cells": [
  {
   "cell_type": "code",
   "execution_count": 1,
   "metadata": {},
   "outputs": [],
   "source": [
    "from collections import Counter\n",
    "from model import RNNModule\n",
    "from music21 import note, chord, instrument, stream\n",
    "import numpy as np\n",
    "import pickle\n",
    "import torch"
   ]
  },
  {
   "cell_type": "code",
   "execution_count": 2,
   "metadata": {},
   "outputs": [],
   "source": [
    "# параметры модели\n",
    "batch_size     = 20\n",
    "sequence_size  = 100\n",
    "embedding_size = 200\n",
    "hidden_size    = 400"
   ]
  },
  {
   "cell_type": "markdown",
   "metadata": {},
   "source": [
    "## Генерация примеров"
   ]
  },
  {
   "cell_type": "code",
   "execution_count": 3,
   "metadata": {},
   "outputs": [],
   "source": [
    "# вновь загружаем ноты из файлов и делаем словари\n",
    "\n",
    "notes = []\n",
    "\n",
    "with open('data/notes_ibi', 'rb') as f:\n",
    "    notes += pickle.load(f)\n",
    "    \n",
    "with open('data/notes_classic', 'rb')as f:\n",
    "    notes += pickle.load(f)\n",
    "    \n",
    "dict_notes = Counter(notes)\n",
    "\n",
    "sorted_notes = sorted(dict_notes, key=dict_notes.get, reverse=True)\n",
    "\n",
    "int_to_note = {i : n for i,n in enumerate(sorted_notes)}\n",
    "note_to_int = {n : i for i,n in enumerate(sorted_notes)}\n",
    "\n",
    "n_notes = len(int_to_note)"
   ]
  },
  {
   "cell_type": "code",
   "execution_count": 4,
   "metadata": {},
   "outputs": [],
   "source": [
    "# создаём модель\n",
    "device = torch.device('cuda' if torch.cuda.is_available() else 'cpu')\n",
    "net = RNNModule(sequence_size, hidden_size, embedding_size, batch_size, n_notes)\n",
    "net = net.to(device)\n",
    "\n",
    "# загружаем состояние модели 282 эпохи(45000 итерации)\n",
    "net.load_state_dict(torch.load(\"data/model_states/model-45000.pth\"))\n",
    "\n",
    "np.random.seed(42)"
   ]
  },
  {
   "cell_type": "code",
   "execution_count": 5,
   "metadata": {},
   "outputs": [],
   "source": [
    "def predict(device, net, first_notes, top_prob, file_output):\n",
    "    \"\"\" функция генерирует midi файл, используя обученную модель \"\"\"\n",
    "    \n",
    "    net.eval()\n",
    "    \n",
    "    midi_notes = first_notes\n",
    "    \n",
    "    state_h, state_c = net.zero_state(1)\n",
    "    state_h = state_h.to(device)\n",
    "    state_c = state_c.to(device)\n",
    "    \n",
    "    # запускаем модель на первых нотах\n",
    "    for n in midi_notes:\n",
    "        ix = torch.tensor([[note_to_int[n]]]).to(device)\n",
    "        output, (state_h, state_c) = net(ix, (state_h, state_c))\n",
    "    \n",
    "    # выбираем k элементов с набольшей вероятностью\n",
    "    _, top_ix = torch.topk(output[0], k=top_prob)\n",
    "    \n",
    "    # выбираем 1 элемент из k, он будет следующим в последовательности\n",
    "    choices = top_ix.tolist()\n",
    "    choice = np.random.choice(choices[0])\n",
    "  \n",
    "    midi_notes.append(int_to_note[choice])\n",
    "\n",
    "    # запускаем модель и генерируем композицию длины 500 + кол-во начальных нот\n",
    "    \n",
    "    for _ in range(250):\n",
    "        ix = torch.tensor([[choice]]).to(device)\n",
    "        output, (state_h, state_c) = net(ix, (state_h, state_c))\n",
    "\n",
    "        _, top_ix = torch.topk(output[0], k=top_prob)\n",
    "        \n",
    "        choices = top_ix.tolist()\n",
    "        choice = np.random.choice(choices[0])\n",
    "        \n",
    "        midi_notes.append(int_to_note[choice])\n",
    "        \n",
    "    # добавляем смещение, чтобы ноты не накладывались\n",
    "    offset = 0\n",
    "    \n",
    "    \n",
    "    output_notes = []\n",
    "\n",
    "    # генерируем последовательность нот, которая будет основой midi файла\n",
    "    for pattern in midi_notes:        \n",
    "        # добавляем аккорд (ноты разделены точкой)\n",
    "        if ('.' in pattern) or pattern.isdigit():\n",
    "            notes_in_chord = pattern.split('.')\n",
    "            notes = []\n",
    "            \n",
    "            for current_note in notes_in_chord:\n",
    "                new_note = note.Note(int(current_note))\n",
    "                new_note.storedInstrument = instrument.Piano()\n",
    "                notes.append(new_note)\n",
    "                \n",
    "            new_chord = chord.Chord(notes)\n",
    "            new_chord.offset = offset\n",
    "            output_notes.append(new_chord)\n",
    "            \n",
    "        # добавляем ноту\n",
    "        else:\n",
    "            new_note = note.Note(pattern)\n",
    "            new_note.offset = offset\n",
    "            new_note.storedInstrument = instrument.Piano()\n",
    "            output_notes.append(new_note)\n",
    "\n",
    "        offset += 0.65\n",
    "        \n",
    "    midi_stream = stream.Stream(output_notes)\n",
    "\n",
    "    midi_stream.write('midi', fp=file_output)"
   ]
  },
  {
   "cell_type": "code",
   "execution_count": 6,
   "metadata": {},
   "outputs": [
    {
     "name": "stdout",
     "output_type": "stream",
     "text": [
      "5.6.9 C5\n",
      "2.6.8\n"
     ]
    }
   ],
   "source": [
    "# ноты и аккорды, с которых будет генерироваться мелодия\n",
    "print(int_to_note[444], int_to_note[0])\n",
    "print(int_to_note[321])"
   ]
  },
  {
   "cell_type": "code",
   "execution_count": 7,
   "metadata": {},
   "outputs": [],
   "source": [
    "# генерируем мелодии\n",
    "predict(device,net, [int_to_note[0], int_to_note[1]], 1, \"data/samples/sample1.mid\")\n",
    "predict(device,net, [int_to_note[555]], 4, \"data/samples/sample2.mid\")"
   ]
  }
 ],
 "metadata": {
  "kernelspec": {
   "display_name": "Python 3",
   "language": "python",
   "name": "python3"
  },
  "language_info": {
   "codemirror_mode": {
    "name": "ipython",
    "version": 3
   },
   "file_extension": ".py",
   "mimetype": "text/x-python",
   "name": "python",
   "nbconvert_exporter": "python",
   "pygments_lexer": "ipython3",
   "version": "3.8.6"
  }
 },
 "nbformat": 4,
 "nbformat_minor": 4
}
